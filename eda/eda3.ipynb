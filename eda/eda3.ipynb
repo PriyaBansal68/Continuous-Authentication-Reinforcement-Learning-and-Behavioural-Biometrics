{
 "cells": [
  {
   "cell_type": "markdown",
   "metadata": {},
   "source": [
    "Some keys like 'BACKSPACE', 'LSHIFT', '-', 'RIGHT', 'LCTRL', and 'LEFT' have multiple consecutive events where direction=0. Why? What inference can be drawn?"
   ]
  },
  {
   "cell_type": "markdown",
   "metadata": {},
   "source": [
    "- Time difference between events is a good feature\n",
    "- Next expected key is important => Previous key is important\n",
    "- Holdtime is a good feature"
   ]
  },
  {
   "cell_type": "code",
   "execution_count": null,
   "metadata": {},
   "outputs": [],
   "source": []
  },
  {
   "cell_type": "markdown",
   "metadata": {},
   "source": [
    "- Keep discount factor very small\n",
    "- Use TD learning / policy gradients"
   ]
  }
 ],
 "metadata": {
  "kernelspec": {
   "display_name": "Python 3.8.10 64-bit",
   "language": "python",
   "name": "python3"
  },
  "language_info": {
   "name": "python",
   "version": "3.8.10"
  },
  "orig_nbformat": 4,
  "vscode": {
   "interpreter": {
    "hash": "916dbcbb3f70747c44a77c7bcd40155683ae19c65e1c03b4aa3499c5328201f1"
   }
  }
 },
 "nbformat": 4,
 "nbformat_minor": 2
}
